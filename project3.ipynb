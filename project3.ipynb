{
  "nbformat": 4,
  "nbformat_minor": 0,
  "metadata": {
    "colab": {
      "provenance": [],
      "authorship_tag": "ABX9TyMa2ss78qCB0KqTaQtBUfqV",
      "include_colab_link": true
    },
    "kernelspec": {
      "name": "python3",
      "display_name": "Python 3"
    },
    "language_info": {
      "name": "python"
    }
  },
  "cells": [
    {
      "cell_type": "markdown",
      "metadata": {
        "id": "view-in-github",
        "colab_type": "text"
      },
      "source": [
        "<a href=\"https://colab.research.google.com/github/saikrishna-dataanalyst/1/blob/main/project3.ipynb\" target=\"_parent\"><img src=\"https://colab.research.google.com/assets/colab-badge.svg\" alt=\"Open In Colab\"/></a>"
      ]
    },
    {
      "cell_type": "code",
      "execution_count": null,
      "metadata": {
        "colab": {
          "base_uri": "https://localhost:8080/"
        },
        "id": "Z7X6TN5W-JuJ",
        "outputId": "c159ed61-8a5c-49f3-bf0d-1d5a708399bd"
      },
      "outputs": [
        {
          "output_type": "stream",
          "name": "stdout",
          "text": [
            "Collecting opendatasets\n",
            "  Downloading opendatasets-0.1.22-py3-none-any.whl.metadata (9.2 kB)\n",
            "Requirement already satisfied: tqdm in /usr/local/lib/python3.11/dist-packages (from opendatasets) (4.67.1)\n",
            "Requirement already satisfied: kaggle in /usr/local/lib/python3.11/dist-packages (from opendatasets) (1.6.17)\n",
            "Requirement already satisfied: click in /usr/local/lib/python3.11/dist-packages (from opendatasets) (8.1.8)\n",
            "Requirement already satisfied: six>=1.10 in /usr/local/lib/python3.11/dist-packages (from kaggle->opendatasets) (1.17.0)\n",
            "Requirement already satisfied: certifi>=2023.7.22 in /usr/local/lib/python3.11/dist-packages (from kaggle->opendatasets) (2024.12.14)\n",
            "Requirement already satisfied: python-dateutil in /usr/local/lib/python3.11/dist-packages (from kaggle->opendatasets) (2.8.2)\n",
            "Requirement already satisfied: requests in /usr/local/lib/python3.11/dist-packages (from kaggle->opendatasets) (2.32.3)\n",
            "Requirement already satisfied: python-slugify in /usr/local/lib/python3.11/dist-packages (from kaggle->opendatasets) (8.0.4)\n",
            "Requirement already satisfied: urllib3 in /usr/local/lib/python3.11/dist-packages (from kaggle->opendatasets) (2.3.0)\n",
            "Requirement already satisfied: bleach in /usr/local/lib/python3.11/dist-packages (from kaggle->opendatasets) (6.2.0)\n",
            "Requirement already satisfied: webencodings in /usr/local/lib/python3.11/dist-packages (from bleach->kaggle->opendatasets) (0.5.1)\n",
            "Requirement already satisfied: text-unidecode>=1.3 in /usr/local/lib/python3.11/dist-packages (from python-slugify->kaggle->opendatasets) (1.3)\n",
            "Requirement already satisfied: charset-normalizer<4,>=2 in /usr/local/lib/python3.11/dist-packages (from requests->kaggle->opendatasets) (3.4.1)\n",
            "Requirement already satisfied: idna<4,>=2.5 in /usr/local/lib/python3.11/dist-packages (from requests->kaggle->opendatasets) (3.10)\n",
            "Downloading opendatasets-0.1.22-py3-none-any.whl (15 kB)\n",
            "Installing collected packages: opendatasets\n",
            "Successfully installed opendatasets-0.1.22\n"
          ]
        }
      ],
      "source": [
        "!pip install opendatasets\n"
      ]
    },
    {
      "cell_type": "code",
      "source": [
        "import pandas as pd\n",
        "data = pd.read_csv('/content/retail_sales_dataset.csv')\n",
        "data.head(10)"
      ],
      "metadata": {
        "colab": {
          "base_uri": "https://localhost:8080/",
          "height": 363
        },
        "id": "Ik3eQPL5BAtk",
        "outputId": "919c214f-3427-4e67-c213-f339c8605d22"
      },
      "execution_count": null,
      "outputs": [
        {
          "output_type": "execute_result",
          "data": {
            "text/plain": [
              "   Transaction ID        Date Customer ID  Gender  Age Product Category  \\\n",
              "0               1  2023-11-24     CUST001    Male   34           Beauty   \n",
              "1               2  2023-02-27     CUST002  Female   26         Clothing   \n",
              "2               3  2023-01-13     CUST003    Male   50      Electronics   \n",
              "3               4  2023-05-21     CUST004    Male   37         Clothing   \n",
              "4               5  2023-05-06     CUST005    Male   30           Beauty   \n",
              "5               6  2023-04-25     CUST006  Female   45           Beauty   \n",
              "6               7  2023-03-13     CUST007    Male   46         Clothing   \n",
              "7               8  2023-02-22     CUST008    Male   30      Electronics   \n",
              "8               9  2023-12-13     CUST009    Male   63      Electronics   \n",
              "9              10  2023-10-07     CUST010  Female   52         Clothing   \n",
              "\n",
              "   Quantity  Price per Unit  Total Amount  \n",
              "0         3              50           150  \n",
              "1         2             500          1000  \n",
              "2         1              30            30  \n",
              "3         1             500           500  \n",
              "4         2              50           100  \n",
              "5         1              30            30  \n",
              "6         2              25            50  \n",
              "7         4              25           100  \n",
              "8         2             300           600  \n",
              "9         4              50           200  "
            ],
            "text/html": [
              "\n",
              "  <div id=\"df-85f029cc-ea37-4f99-8a68-6d876039d907\" class=\"colab-df-container\">\n",
              "    <div>\n",
              "<style scoped>\n",
              "    .dataframe tbody tr th:only-of-type {\n",
              "        vertical-align: middle;\n",
              "    }\n",
              "\n",
              "    .dataframe tbody tr th {\n",
              "        vertical-align: top;\n",
              "    }\n",
              "\n",
              "    .dataframe thead th {\n",
              "        text-align: right;\n",
              "    }\n",
              "</style>\n",
              "<table border=\"1\" class=\"dataframe\">\n",
              "  <thead>\n",
              "    <tr style=\"text-align: right;\">\n",
              "      <th></th>\n",
              "      <th>Transaction ID</th>\n",
              "      <th>Date</th>\n",
              "      <th>Customer ID</th>\n",
              "      <th>Gender</th>\n",
              "      <th>Age</th>\n",
              "      <th>Product Category</th>\n",
              "      <th>Quantity</th>\n",
              "      <th>Price per Unit</th>\n",
              "      <th>Total Amount</th>\n",
              "    </tr>\n",
              "  </thead>\n",
              "  <tbody>\n",
              "    <tr>\n",
              "      <th>0</th>\n",
              "      <td>1</td>\n",
              "      <td>2023-11-24</td>\n",
              "      <td>CUST001</td>\n",
              "      <td>Male</td>\n",
              "      <td>34</td>\n",
              "      <td>Beauty</td>\n",
              "      <td>3</td>\n",
              "      <td>50</td>\n",
              "      <td>150</td>\n",
              "    </tr>\n",
              "    <tr>\n",
              "      <th>1</th>\n",
              "      <td>2</td>\n",
              "      <td>2023-02-27</td>\n",
              "      <td>CUST002</td>\n",
              "      <td>Female</td>\n",
              "      <td>26</td>\n",
              "      <td>Clothing</td>\n",
              "      <td>2</td>\n",
              "      <td>500</td>\n",
              "      <td>1000</td>\n",
              "    </tr>\n",
              "    <tr>\n",
              "      <th>2</th>\n",
              "      <td>3</td>\n",
              "      <td>2023-01-13</td>\n",
              "      <td>CUST003</td>\n",
              "      <td>Male</td>\n",
              "      <td>50</td>\n",
              "      <td>Electronics</td>\n",
              "      <td>1</td>\n",
              "      <td>30</td>\n",
              "      <td>30</td>\n",
              "    </tr>\n",
              "    <tr>\n",
              "      <th>3</th>\n",
              "      <td>4</td>\n",
              "      <td>2023-05-21</td>\n",
              "      <td>CUST004</td>\n",
              "      <td>Male</td>\n",
              "      <td>37</td>\n",
              "      <td>Clothing</td>\n",
              "      <td>1</td>\n",
              "      <td>500</td>\n",
              "      <td>500</td>\n",
              "    </tr>\n",
              "    <tr>\n",
              "      <th>4</th>\n",
              "      <td>5</td>\n",
              "      <td>2023-05-06</td>\n",
              "      <td>CUST005</td>\n",
              "      <td>Male</td>\n",
              "      <td>30</td>\n",
              "      <td>Beauty</td>\n",
              "      <td>2</td>\n",
              "      <td>50</td>\n",
              "      <td>100</td>\n",
              "    </tr>\n",
              "    <tr>\n",
              "      <th>5</th>\n",
              "      <td>6</td>\n",
              "      <td>2023-04-25</td>\n",
              "      <td>CUST006</td>\n",
              "      <td>Female</td>\n",
              "      <td>45</td>\n",
              "      <td>Beauty</td>\n",
              "      <td>1</td>\n",
              "      <td>30</td>\n",
              "      <td>30</td>\n",
              "    </tr>\n",
              "    <tr>\n",
              "      <th>6</th>\n",
              "      <td>7</td>\n",
              "      <td>2023-03-13</td>\n",
              "      <td>CUST007</td>\n",
              "      <td>Male</td>\n",
              "      <td>46</td>\n",
              "      <td>Clothing</td>\n",
              "      <td>2</td>\n",
              "      <td>25</td>\n",
              "      <td>50</td>\n",
              "    </tr>\n",
              "    <tr>\n",
              "      <th>7</th>\n",
              "      <td>8</td>\n",
              "      <td>2023-02-22</td>\n",
              "      <td>CUST008</td>\n",
              "      <td>Male</td>\n",
              "      <td>30</td>\n",
              "      <td>Electronics</td>\n",
              "      <td>4</td>\n",
              "      <td>25</td>\n",
              "      <td>100</td>\n",
              "    </tr>\n",
              "    <tr>\n",
              "      <th>8</th>\n",
              "      <td>9</td>\n",
              "      <td>2023-12-13</td>\n",
              "      <td>CUST009</td>\n",
              "      <td>Male</td>\n",
              "      <td>63</td>\n",
              "      <td>Electronics</td>\n",
              "      <td>2</td>\n",
              "      <td>300</td>\n",
              "      <td>600</td>\n",
              "    </tr>\n",
              "    <tr>\n",
              "      <th>9</th>\n",
              "      <td>10</td>\n",
              "      <td>2023-10-07</td>\n",
              "      <td>CUST010</td>\n",
              "      <td>Female</td>\n",
              "      <td>52</td>\n",
              "      <td>Clothing</td>\n",
              "      <td>4</td>\n",
              "      <td>50</td>\n",
              "      <td>200</td>\n",
              "    </tr>\n",
              "  </tbody>\n",
              "</table>\n",
              "</div>\n",
              "    <div class=\"colab-df-buttons\">\n",
              "\n",
              "  <div class=\"colab-df-container\">\n",
              "    <button class=\"colab-df-convert\" onclick=\"convertToInteractive('df-85f029cc-ea37-4f99-8a68-6d876039d907')\"\n",
              "            title=\"Convert this dataframe to an interactive table.\"\n",
              "            style=\"display:none;\">\n",
              "\n",
              "  <svg xmlns=\"http://www.w3.org/2000/svg\" height=\"24px\" viewBox=\"0 -960 960 960\">\n",
              "    <path d=\"M120-120v-720h720v720H120Zm60-500h600v-160H180v160Zm220 220h160v-160H400v160Zm0 220h160v-160H400v160ZM180-400h160v-160H180v160Zm440 0h160v-160H620v160ZM180-180h160v-160H180v160Zm440 0h160v-160H620v160Z\"/>\n",
              "  </svg>\n",
              "    </button>\n",
              "\n",
              "  <style>\n",
              "    .colab-df-container {\n",
              "      display:flex;\n",
              "      gap: 12px;\n",
              "    }\n",
              "\n",
              "    .colab-df-convert {\n",
              "      background-color: #E8F0FE;\n",
              "      border: none;\n",
              "      border-radius: 50%;\n",
              "      cursor: pointer;\n",
              "      display: none;\n",
              "      fill: #1967D2;\n",
              "      height: 32px;\n",
              "      padding: 0 0 0 0;\n",
              "      width: 32px;\n",
              "    }\n",
              "\n",
              "    .colab-df-convert:hover {\n",
              "      background-color: #E2EBFA;\n",
              "      box-shadow: 0px 1px 2px rgba(60, 64, 67, 0.3), 0px 1px 3px 1px rgba(60, 64, 67, 0.15);\n",
              "      fill: #174EA6;\n",
              "    }\n",
              "\n",
              "    .colab-df-buttons div {\n",
              "      margin-bottom: 4px;\n",
              "    }\n",
              "\n",
              "    [theme=dark] .colab-df-convert {\n",
              "      background-color: #3B4455;\n",
              "      fill: #D2E3FC;\n",
              "    }\n",
              "\n",
              "    [theme=dark] .colab-df-convert:hover {\n",
              "      background-color: #434B5C;\n",
              "      box-shadow: 0px 1px 3px 1px rgba(0, 0, 0, 0.15);\n",
              "      filter: drop-shadow(0px 1px 2px rgba(0, 0, 0, 0.3));\n",
              "      fill: #FFFFFF;\n",
              "    }\n",
              "  </style>\n",
              "\n",
              "    <script>\n",
              "      const buttonEl =\n",
              "        document.querySelector('#df-85f029cc-ea37-4f99-8a68-6d876039d907 button.colab-df-convert');\n",
              "      buttonEl.style.display =\n",
              "        google.colab.kernel.accessAllowed ? 'block' : 'none';\n",
              "\n",
              "      async function convertToInteractive(key) {\n",
              "        const element = document.querySelector('#df-85f029cc-ea37-4f99-8a68-6d876039d907');\n",
              "        const dataTable =\n",
              "          await google.colab.kernel.invokeFunction('convertToInteractive',\n",
              "                                                    [key], {});\n",
              "        if (!dataTable) return;\n",
              "\n",
              "        const docLinkHtml = 'Like what you see? Visit the ' +\n",
              "          '<a target=\"_blank\" href=https://colab.research.google.com/notebooks/data_table.ipynb>data table notebook</a>'\n",
              "          + ' to learn more about interactive tables.';\n",
              "        element.innerHTML = '';\n",
              "        dataTable['output_type'] = 'display_data';\n",
              "        await google.colab.output.renderOutput(dataTable, element);\n",
              "        const docLink = document.createElement('div');\n",
              "        docLink.innerHTML = docLinkHtml;\n",
              "        element.appendChild(docLink);\n",
              "      }\n",
              "    </script>\n",
              "  </div>\n",
              "\n",
              "\n",
              "<div id=\"df-f2ecd1a9-72d4-4042-b8bc-939aa1bcb4e9\">\n",
              "  <button class=\"colab-df-quickchart\" onclick=\"quickchart('df-f2ecd1a9-72d4-4042-b8bc-939aa1bcb4e9')\"\n",
              "            title=\"Suggest charts\"\n",
              "            style=\"display:none;\">\n",
              "\n",
              "<svg xmlns=\"http://www.w3.org/2000/svg\" height=\"24px\"viewBox=\"0 0 24 24\"\n",
              "     width=\"24px\">\n",
              "    <g>\n",
              "        <path d=\"M19 3H5c-1.1 0-2 .9-2 2v14c0 1.1.9 2 2 2h14c1.1 0 2-.9 2-2V5c0-1.1-.9-2-2-2zM9 17H7v-7h2v7zm4 0h-2V7h2v10zm4 0h-2v-4h2v4z\"/>\n",
              "    </g>\n",
              "</svg>\n",
              "  </button>\n",
              "\n",
              "<style>\n",
              "  .colab-df-quickchart {\n",
              "      --bg-color: #E8F0FE;\n",
              "      --fill-color: #1967D2;\n",
              "      --hover-bg-color: #E2EBFA;\n",
              "      --hover-fill-color: #174EA6;\n",
              "      --disabled-fill-color: #AAA;\n",
              "      --disabled-bg-color: #DDD;\n",
              "  }\n",
              "\n",
              "  [theme=dark] .colab-df-quickchart {\n",
              "      --bg-color: #3B4455;\n",
              "      --fill-color: #D2E3FC;\n",
              "      --hover-bg-color: #434B5C;\n",
              "      --hover-fill-color: #FFFFFF;\n",
              "      --disabled-bg-color: #3B4455;\n",
              "      --disabled-fill-color: #666;\n",
              "  }\n",
              "\n",
              "  .colab-df-quickchart {\n",
              "    background-color: var(--bg-color);\n",
              "    border: none;\n",
              "    border-radius: 50%;\n",
              "    cursor: pointer;\n",
              "    display: none;\n",
              "    fill: var(--fill-color);\n",
              "    height: 32px;\n",
              "    padding: 0;\n",
              "    width: 32px;\n",
              "  }\n",
              "\n",
              "  .colab-df-quickchart:hover {\n",
              "    background-color: var(--hover-bg-color);\n",
              "    box-shadow: 0 1px 2px rgba(60, 64, 67, 0.3), 0 1px 3px 1px rgba(60, 64, 67, 0.15);\n",
              "    fill: var(--button-hover-fill-color);\n",
              "  }\n",
              "\n",
              "  .colab-df-quickchart-complete:disabled,\n",
              "  .colab-df-quickchart-complete:disabled:hover {\n",
              "    background-color: var(--disabled-bg-color);\n",
              "    fill: var(--disabled-fill-color);\n",
              "    box-shadow: none;\n",
              "  }\n",
              "\n",
              "  .colab-df-spinner {\n",
              "    border: 2px solid var(--fill-color);\n",
              "    border-color: transparent;\n",
              "    border-bottom-color: var(--fill-color);\n",
              "    animation:\n",
              "      spin 1s steps(1) infinite;\n",
              "  }\n",
              "\n",
              "  @keyframes spin {\n",
              "    0% {\n",
              "      border-color: transparent;\n",
              "      border-bottom-color: var(--fill-color);\n",
              "      border-left-color: var(--fill-color);\n",
              "    }\n",
              "    20% {\n",
              "      border-color: transparent;\n",
              "      border-left-color: var(--fill-color);\n",
              "      border-top-color: var(--fill-color);\n",
              "    }\n",
              "    30% {\n",
              "      border-color: transparent;\n",
              "      border-left-color: var(--fill-color);\n",
              "      border-top-color: var(--fill-color);\n",
              "      border-right-color: var(--fill-color);\n",
              "    }\n",
              "    40% {\n",
              "      border-color: transparent;\n",
              "      border-right-color: var(--fill-color);\n",
              "      border-top-color: var(--fill-color);\n",
              "    }\n",
              "    60% {\n",
              "      border-color: transparent;\n",
              "      border-right-color: var(--fill-color);\n",
              "    }\n",
              "    80% {\n",
              "      border-color: transparent;\n",
              "      border-right-color: var(--fill-color);\n",
              "      border-bottom-color: var(--fill-color);\n",
              "    }\n",
              "    90% {\n",
              "      border-color: transparent;\n",
              "      border-bottom-color: var(--fill-color);\n",
              "    }\n",
              "  }\n",
              "</style>\n",
              "\n",
              "  <script>\n",
              "    async function quickchart(key) {\n",
              "      const quickchartButtonEl =\n",
              "        document.querySelector('#' + key + ' button');\n",
              "      quickchartButtonEl.disabled = true;  // To prevent multiple clicks.\n",
              "      quickchartButtonEl.classList.add('colab-df-spinner');\n",
              "      try {\n",
              "        const charts = await google.colab.kernel.invokeFunction(\n",
              "            'suggestCharts', [key], {});\n",
              "      } catch (error) {\n",
              "        console.error('Error during call to suggestCharts:', error);\n",
              "      }\n",
              "      quickchartButtonEl.classList.remove('colab-df-spinner');\n",
              "      quickchartButtonEl.classList.add('colab-df-quickchart-complete');\n",
              "    }\n",
              "    (() => {\n",
              "      let quickchartButtonEl =\n",
              "        document.querySelector('#df-f2ecd1a9-72d4-4042-b8bc-939aa1bcb4e9 button');\n",
              "      quickchartButtonEl.style.display =\n",
              "        google.colab.kernel.accessAllowed ? 'block' : 'none';\n",
              "    })();\n",
              "  </script>\n",
              "</div>\n",
              "\n",
              "    </div>\n",
              "  </div>\n"
            ],
            "application/vnd.google.colaboratory.intrinsic+json": {
              "type": "dataframe",
              "variable_name": "data",
              "summary": "{\n  \"name\": \"data\",\n  \"rows\": 1000,\n  \"fields\": [\n    {\n      \"column\": \"Transaction ID\",\n      \"properties\": {\n        \"dtype\": \"number\",\n        \"std\": 288,\n        \"min\": 1,\n        \"max\": 1000,\n        \"num_unique_values\": 1000,\n        \"samples\": [\n          522,\n          738,\n          741\n        ],\n        \"semantic_type\": \"\",\n        \"description\": \"\"\n      }\n    },\n    {\n      \"column\": \"Date\",\n      \"properties\": {\n        \"dtype\": \"object\",\n        \"num_unique_values\": 345,\n        \"samples\": [\n          \"2023-04-04\",\n          \"2023-04-13\",\n          \"2023-04-15\"\n        ],\n        \"semantic_type\": \"\",\n        \"description\": \"\"\n      }\n    },\n    {\n      \"column\": \"Customer ID\",\n      \"properties\": {\n        \"dtype\": \"string\",\n        \"num_unique_values\": 1000,\n        \"samples\": [\n          \"CUST522\",\n          \"CUST738\",\n          \"CUST741\"\n        ],\n        \"semantic_type\": \"\",\n        \"description\": \"\"\n      }\n    },\n    {\n      \"column\": \"Gender\",\n      \"properties\": {\n        \"dtype\": \"category\",\n        \"num_unique_values\": 2,\n        \"samples\": [\n          \"Female\",\n          \"Male\"\n        ],\n        \"semantic_type\": \"\",\n        \"description\": \"\"\n      }\n    },\n    {\n      \"column\": \"Age\",\n      \"properties\": {\n        \"dtype\": \"number\",\n        \"std\": 13,\n        \"min\": 18,\n        \"max\": 64,\n        \"num_unique_values\": 47,\n        \"samples\": [\n          48,\n          61\n        ],\n        \"semantic_type\": \"\",\n        \"description\": \"\"\n      }\n    },\n    {\n      \"column\": \"Product Category\",\n      \"properties\": {\n        \"dtype\": \"category\",\n        \"num_unique_values\": 3,\n        \"samples\": [\n          \"Beauty\",\n          \"Clothing\"\n        ],\n        \"semantic_type\": \"\",\n        \"description\": \"\"\n      }\n    },\n    {\n      \"column\": \"Quantity\",\n      \"properties\": {\n        \"dtype\": \"number\",\n        \"std\": 1,\n        \"min\": 1,\n        \"max\": 4,\n        \"num_unique_values\": 4,\n        \"samples\": [\n          2,\n          4\n        ],\n        \"semantic_type\": \"\",\n        \"description\": \"\"\n      }\n    },\n    {\n      \"column\": \"Price per Unit\",\n      \"properties\": {\n        \"dtype\": \"number\",\n        \"std\": 189,\n        \"min\": 25,\n        \"max\": 500,\n        \"num_unique_values\": 5,\n        \"samples\": [\n          500,\n          300\n        ],\n        \"semantic_type\": \"\",\n        \"description\": \"\"\n      }\n    },\n    {\n      \"column\": \"Total Amount\",\n      \"properties\": {\n        \"dtype\": \"number\",\n        \"std\": 559,\n        \"min\": 25,\n        \"max\": 2000,\n        \"num_unique_values\": 18,\n        \"samples\": [\n          150,\n          1000\n        ],\n        \"semantic_type\": \"\",\n        \"description\": \"\"\n      }\n    }\n  ]\n}"
            }
          },
          "metadata": {},
          "execution_count": 4
        }
      ]
    },
    {
      "cell_type": "markdown",
      "source": [
        "**TASK:1** Data Loading and Inspection\n",
        "      \n",
        "\n",
        "*  Display the first 10 rows of the dataset.\n",
        "\n",
        "\n"
      ],
      "metadata": {
        "id": "LSsOrjjyU1Is"
      }
    },
    {
      "cell_type": "code",
      "source": [
        "# prompt: generate a code to Print the column names and their respective data types\n",
        "\n",
        "import pandas as pd\n",
        "\n",
        "# Assuming 'data' DataFrame is already loaded as in the previous code snippet.\n",
        "# If not, uncomment the following lines and replace '/content/retail_sales_dataset.csv'\n",
        "# with the correct path to your CSV file.\n",
        "# !pip install opendatasets\n",
        "# data = pd.read_csv('/content/retail_sales_dataset.csv')\n",
        "\n",
        "# Print column names and data types\n",
        "for col in data.columns:\n",
        "  print(f\"{col}: {data[col].dtype}\")\n"
      ],
      "metadata": {
        "colab": {
          "base_uri": "https://localhost:8080/"
        },
        "id": "PyspWd8cC3S5",
        "outputId": "127bffb3-46a2-4ffb-af01-383dc4f0caf6"
      },
      "execution_count": null,
      "outputs": [
        {
          "output_type": "stream",
          "name": "stdout",
          "text": [
            "Transaction ID: int64\n",
            "Date: object\n",
            "Customer ID: object\n",
            "Gender: object\n",
            "Age: int64\n",
            "Product Category: object\n",
            "Quantity: int64\n",
            "Price per Unit: int64\n",
            "Total Amount: int64\n"
          ]
        }
      ]
    },
    {
      "cell_type": "markdown",
      "source": [
        "**TASK:1** Data Loading and Inspection\n",
        "\n",
        "\n",
        "*  Print the column names and their respective data types\n",
        "\n",
        "\n"
      ],
      "metadata": {
        "id": "URUFRws3Vmgj"
      }
    },
    {
      "cell_type": "code",
      "source": [
        "# prompt: generate a code to Check for missing values and duplicates in the dataset.\n",
        "\n",
        "# Check for missing values\n",
        "missing_values = data.isnull().sum()\n",
        "print(\"Missing values:\\n\", missing_values)\n",
        "\n",
        "# Check for duplicate rows\n",
        "duplicate_rows = data.duplicated().sum()\n",
        "print(\"\\nNumber of duplicate rows:\", duplicate_rows)\n",
        "\n",
        "# Check for duplicates in specific columns (e.g., 'Transaction ID' and 'Customer ID')\n",
        "# Replace 'Transaction ID' and 'Customer ID' with your relevant column names if needed\n",
        "# The original code used 'Order ID' which likely caused the KeyError\n",
        "# Make sure the column names match the actual names in your DataFrame\n",
        "duplicate_orders = data.duplicated(subset=['Transaction ID', 'Customer ID']).sum()\n",
        "print(\"\\nNumber of duplicate orders (based on 'Transaction ID' and 'Customer ID'):\", duplicate_orders)"
      ],
      "metadata": {
        "colab": {
          "base_uri": "https://localhost:8080/"
        },
        "id": "kAK2XYoEDPnA",
        "outputId": "baecf905-a578-419c-bfda-57075ac85129"
      },
      "execution_count": null,
      "outputs": [
        {
          "output_type": "stream",
          "name": "stdout",
          "text": [
            "Missing values:\n",
            " Transaction ID      0\n",
            "Date                0\n",
            "Customer ID         0\n",
            "Gender              0\n",
            "Age                 0\n",
            "Product Category    0\n",
            "Quantity            0\n",
            "Price per Unit      0\n",
            "Total Amount        0\n",
            "dtype: int64\n",
            "\n",
            "Number of duplicate rows: 0\n",
            "\n",
            "Number of duplicate orders (based on 'Transaction ID' and 'Customer ID'): 0\n"
          ]
        }
      ]
    },
    {
      "cell_type": "markdown",
      "source": [
        "TASK:1  Data Loading and Inspection\n",
        "\n",
        "*   Check for missing values and duplicates in the dataset\n",
        "\n",
        "\n",
        "\n",
        "\n",
        "\n",
        "\n",
        "\n",
        "\n",
        "\n",
        "\n",
        "\n",
        "\n",
        "\n"
      ],
      "metadata": {
        "id": "isqOkZwrV-sy"
      }
    },
    {
      "cell_type": "markdown",
      "source": [
        "**Deliverables:**\n",
        "\n",
        "\n",
        "\n",
        "*  \n",
        "A brief summary of the dataset.\n",
        "\n",
        "\n",
        "\n",
        "The dataset has X rows and Y columns, with a mix of numerical and categorical data. Some columns have missing values, and there are Z duplicate rows. The numerical data varies in range, while the categorical columns have multiple unique values. Basic cleaning is needed before further analysis.\n"
      ],
      "metadata": {
        "id": "pLEthR1ZYiRP"
      }
    },
    {
      "cell_type": "code",
      "source": [
        "# prompt: generate a code to count of missing values and duplicate rows.\n",
        "\n",
        "import pandas as pd\n",
        "\n",
        "# Assuming the data is in 'retail_sales_dataset.csv'\n",
        "# Replace with the actual file path if it's different\n",
        "data = pd.read_csv('/content/retail_sales_dataset.csv')\n",
        "\n",
        "# Check for missing values\n",
        "missing_values = data.isnull().sum()\n",
        "print(\"Missing values:\\n\", missing_values)\n",
        "\n",
        "# Check for duplicate rows\n",
        "duplicate_rows = data.duplicated().sum()\n",
        "print(\"\\nNumber of duplicate rows:\", duplicate_rows)"
      ],
      "metadata": {
        "colab": {
          "base_uri": "https://localhost:8080/"
        },
        "id": "7NP1KGhQZGIW",
        "outputId": "3d9b7779-2dc0-4941-9ecf-1b4a4867459b"
      },
      "execution_count": null,
      "outputs": [
        {
          "output_type": "stream",
          "name": "stdout",
          "text": [
            "Missing values:\n",
            " Transaction ID      0\n",
            "Date                0\n",
            "Customer ID         0\n",
            "Gender              0\n",
            "Age                 0\n",
            "Product Category    0\n",
            "Quantity            0\n",
            "Price per Unit      0\n",
            "Total Amount        0\n",
            "dtype: int64\n",
            "\n",
            "Number of duplicate rows: 0\n"
          ]
        }
      ]
    },
    {
      "cell_type": "code",
      "source": [],
      "metadata": {
        "id": "hDn8tRa4ep3w"
      },
      "execution_count": null,
      "outputs": []
    },
    {
      "cell_type": "markdown",
      "source": [
        "**Deliverables:**\n",
        "\n",
        "\n",
        "*  A count of missing values and duplicate rows.\n",
        "\n"
      ],
      "metadata": {
        "id": "jGradvrsaSUl"
      }
    },
    {
      "cell_type": "code",
      "source": [
        "# prompt: generate a code to remove duplicates\n",
        "\n",
        "# Remove duplicate rows\n",
        "data_no_duplicates = data.drop_duplicates()\n",
        "\n",
        "# Print the number of rows before and after removing duplicates\n",
        "print(f\"Number of rows before removing duplicates: {len(data)}\")\n",
        "print(f\"Number of rows after removing duplicates: {len(data_no_duplicates)}\")\n",
        "\n",
        "# Alternatively, remove duplicates based on specific columns\n",
        "# For example, to remove duplicates based on 'Transaction ID' and 'Customer ID':\n",
        "data_no_duplicates_subset = data.drop_duplicates(subset=['Transaction ID', 'Customer ID'])\n",
        "print(f\"Number of rows after removing duplicates based on 'Transaction ID' and 'Customer ID': {len(data_no_duplicates_subset)}\")\n"
      ],
      "metadata": {
        "colab": {
          "base_uri": "https://localhost:8080/"
        },
        "id": "aTUqsaJCagk9",
        "outputId": "72a67b7e-4d99-4086-d502-011df4aac0df"
      },
      "execution_count": null,
      "outputs": [
        {
          "output_type": "stream",
          "name": "stdout",
          "text": [
            "Number of rows before removing duplicates: 1000\n",
            "Number of rows after removing duplicates: 1000\n",
            "Number of rows after removing duplicates based on 'Transaction ID' and 'Customer ID': 1000\n"
          ]
        }
      ]
    },
    {
      "cell_type": "markdown",
      "source": [
        "TASK:2 . Data Cleaning\n",
        "\n",
        "\n",
        "1.   \n",
        "If there are duplicates, remove them.\n",
        "\n",
        "\n",
        "\n"
      ],
      "metadata": {
        "id": "FirzO67-bsD7"
      }
    },
    {
      "cell_type": "code",
      "source": [
        "# prompt: generate a code to Handle missing values appropriately (drop or impute them).\n",
        "\n",
        "import pandas as pd\n",
        "\n",
        "# Load the dataset (assuming it's in the same directory as the notebook)\n",
        "data = pd.read_csv('/content/retail_sales_dataset.csv')\n",
        "\n",
        "# Handle missing values\n",
        "# 1. Drop rows with any missing values\n",
        "# data_dropped = data.dropna()\n",
        "\n",
        "# 2. Impute missing values (example: using the mean for numerical columns)\n",
        "for col in data.columns:\n",
        "  if pd.api.types.is_numeric_dtype(data[col]):\n",
        "      data[col] = data[col].fillna(data[col].mean())\n",
        "  else:\n",
        "      data[col] = data[col].fillna(data[col].mode()[0]) # Use mode for categorical\n",
        "\n",
        "\n",
        "# Print some info to verify\n",
        "print(data.isnull().sum())\n",
        "print(data.head())\n"
      ],
      "metadata": {
        "colab": {
          "base_uri": "https://localhost:8080/"
        },
        "id": "ZpSGM4q2b-RT",
        "outputId": "08e31677-f7d1-47ff-cd75-3fe793697a6b"
      },
      "execution_count": null,
      "outputs": [
        {
          "output_type": "stream",
          "name": "stdout",
          "text": [
            "Transaction ID      0\n",
            "Date                0\n",
            "Customer ID         0\n",
            "Gender              0\n",
            "Age                 0\n",
            "Product Category    0\n",
            "Quantity            0\n",
            "Price per Unit      0\n",
            "Total Amount        0\n",
            "dtype: int64\n",
            "   Transaction ID        Date Customer ID  Gender  Age Product Category  \\\n",
            "0               1  2023-11-24     CUST001    Male   34           Beauty   \n",
            "1               2  2023-02-27     CUST002  Female   26         Clothing   \n",
            "2               3  2023-01-13     CUST003    Male   50      Electronics   \n",
            "3               4  2023-05-21     CUST004    Male   37         Clothing   \n",
            "4               5  2023-05-06     CUST005    Male   30           Beauty   \n",
            "\n",
            "   Quantity  Price per Unit  Total Amount  \n",
            "0         3              50           150  \n",
            "1         2             500          1000  \n",
            "2         1              30            30  \n",
            "3         1             500           500  \n",
            "4         2              50           100  \n"
          ]
        }
      ]
    },
    {
      "cell_type": "markdown",
      "source": [
        "**TASK:2** Data Cleaning\n",
        "\n",
        "2.  Handle missing values appropriately (drop or impute them).\n",
        "\n"
      ],
      "metadata": {
        "id": "YZDjYRojc13b"
      }
    },
    {
      "cell_type": "code",
      "source": [
        "# prompt: generate a code to Rename the columns to more meaningful names, if necessary.\n",
        "\n",
        "import pandas as pd\n",
        "\n",
        "# Load the dataset\n",
        "data = pd.read_csv('/content/retail_sales_dataset.csv')\n",
        "\n",
        "# Rename columns (replace with your actual column names and desired new names)\n",
        "new_column_names = {\n",
        "    'Transaction ID': 'transaction_id',\n",
        "    'Customer ID': 'customer_id',\n",
        "    # Add more mappings as needed\n",
        "}\n",
        "data = data.rename(columns=new_column_names)\n",
        "\n",
        "# Now you can use the new column names\n",
        "print(data.head())\n"
      ],
      "metadata": {
        "colab": {
          "base_uri": "https://localhost:8080/"
        },
        "id": "ZG8bY2XmdD-B",
        "outputId": "8e29da59-659a-45c8-8a2e-c57faa1df464"
      },
      "execution_count": null,
      "outputs": [
        {
          "output_type": "stream",
          "name": "stdout",
          "text": [
            "   transaction_id        Date customer_id  Gender  Age Product Category  \\\n",
            "0               1  2023-11-24     CUST001    Male   34           Beauty   \n",
            "1               2  2023-02-27     CUST002  Female   26         Clothing   \n",
            "2               3  2023-01-13     CUST003    Male   50      Electronics   \n",
            "3               4  2023-05-21     CUST004    Male   37         Clothing   \n",
            "4               5  2023-05-06     CUST005    Male   30           Beauty   \n",
            "\n",
            "   Quantity  Price per Unit  Total Amount  \n",
            "0         3              50           150  \n",
            "1         2             500          1000  \n",
            "2         1              30            30  \n",
            "3         1             500           500  \n",
            "4         2              50           100  \n"
          ]
        }
      ]
    },
    {
      "cell_type": "markdown",
      "source": [
        "TASK:2 Data Cleaning\n",
        "\n",
        "3.  Rename the columns to more meaningful names, if necessary.\n",
        "\n"
      ],
      "metadata": {
        "id": "RFlsCgB0dxJp"
      }
    },
    {
      "cell_type": "code",
      "source": [
        "# prompt: generate a code to clean  dataset\n",
        "\n",
        "# Continue with data cleaning, building upon the existing code\n",
        "\n",
        "# Convert data types if needed\n",
        "# Example: Convert 'Date' column to datetime objects if it's not already\n",
        "# data['Date'] = pd.to_datetime(data['Date'])\n",
        "\n",
        "# Further data cleaning tasks (example: outlier removal)\n",
        "# For numerical features, you could use IQR or z-scores to identify and handle outliers\n",
        "# For example, using IQR method:\n",
        "\n",
        "# Calculate Q1, Q3, and IQR for numerical features\n",
        "for col in data.columns:\n",
        "    if pd.api.types.is_numeric_dtype(data[col]):\n",
        "        Q1 = data[col].quantile(0.25)\n",
        "        Q3 = data[col].quantile(0.75)\n",
        "        IQR = Q3 - Q1\n",
        "\n",
        "        # Define bounds for outliers\n",
        "        lower_bound = Q1 - 1.5 * IQR\n",
        "        upper_bound = Q3 + 1.5 * IQR\n",
        "\n",
        "        # Filter out outliers\n",
        "        data = data[(data[col] >= lower_bound) & (data[col] <= upper_bound)]\n",
        "\n",
        "\n",
        "# Display the cleaned dataset\n",
        "print(data.head())\n",
        "print(data.info()) # Check data types after cleaning\n",
        "print(data.describe()) # summary statistics after removing outliers\n",
        "\n"
      ],
      "metadata": {
        "colab": {
          "base_uri": "https://localhost:8080/"
        },
        "id": "l5oPFldmeOho",
        "outputId": "d88601a7-a4d8-4fd6-d2e3-605d1b3162ea"
      },
      "execution_count": null,
      "outputs": [
        {
          "output_type": "stream",
          "name": "stdout",
          "text": [
            "   transaction_id        Date customer_id  Gender  Age Product Category  \\\n",
            "0               1  2023-11-24     CUST001    Male   34           Beauty   \n",
            "1               2  2023-02-27     CUST002  Female   26         Clothing   \n",
            "2               3  2023-01-13     CUST003    Male   50      Electronics   \n",
            "3               4  2023-05-21     CUST004    Male   37         Clothing   \n",
            "4               5  2023-05-06     CUST005    Male   30           Beauty   \n",
            "\n",
            "   Quantity  Price per Unit  Total Amount  \n",
            "0         3              50           150  \n",
            "1         2             500          1000  \n",
            "2         1              30            30  \n",
            "3         1             500           500  \n",
            "4         2              50           100  \n",
            "<class 'pandas.core.frame.DataFrame'>\n",
            "RangeIndex: 1000 entries, 0 to 999\n",
            "Data columns (total 9 columns):\n",
            " #   Column            Non-Null Count  Dtype \n",
            "---  ------            --------------  ----- \n",
            " 0   transaction_id    1000 non-null   int64 \n",
            " 1   Date              1000 non-null   object\n",
            " 2   customer_id       1000 non-null   object\n",
            " 3   Gender            1000 non-null   object\n",
            " 4   Age               1000 non-null   int64 \n",
            " 5   Product Category  1000 non-null   object\n",
            " 6   Quantity          1000 non-null   int64 \n",
            " 7   Price per Unit    1000 non-null   int64 \n",
            " 8   Total Amount      1000 non-null   int64 \n",
            "dtypes: int64(5), object(4)\n",
            "memory usage: 70.4+ KB\n",
            "None\n",
            "       transaction_id         Age     Quantity  Price per Unit  Total Amount\n",
            "count     1000.000000  1000.00000  1000.000000     1000.000000   1000.000000\n",
            "mean       500.500000    41.39200     2.514000      179.890000    456.000000\n",
            "std        288.819436    13.68143     1.132734      189.681356    559.997632\n",
            "min          1.000000    18.00000     1.000000       25.000000     25.000000\n",
            "25%        250.750000    29.00000     1.000000       30.000000     60.000000\n",
            "50%        500.500000    42.00000     3.000000       50.000000    135.000000\n",
            "75%        750.250000    53.00000     4.000000      300.000000    900.000000\n",
            "max       1000.000000    64.00000     4.000000      500.000000   2000.000000\n"
          ]
        }
      ]
    },
    {
      "cell_type": "markdown",
      "source": [
        "**Deliverables:**\n",
        "\n",
        "\n",
        "1.   Cleaned dataset.\n",
        "\n",
        "\n",
        "\n",
        "\n"
      ],
      "metadata": {
        "id": "z3olGL6RekoQ"
      }
    },
    {
      "cell_type": "code",
      "source": [],
      "metadata": {
        "id": "vODy15JwfhQv"
      },
      "execution_count": null,
      "outputs": []
    },
    {
      "cell_type": "markdown",
      "source": [
        "**Deliverables:**\n",
        "\n",
        "\n",
        "2.   Explanation of how you handled missing values and duplicates.\n",
        "\n",
        "I handled missing values by first checking their count in each column. If a column had too many missing values, I considered dropping it. For columns with fewer missing values, I filled them with the mean (for numerical data), median (if the data had outliers), or mode (for categorical data).\n",
        "\n",
        "For duplicates, I identified and removed them using drop_duplicates() to ensure data integrity. After these steps, I rechecked the dataset to confirm that all missing values and duplicates were properly handled.\n",
        "\n",
        "\n"
      ],
      "metadata": {
        "id": "JTnZAJPSfmnW"
      }
    },
    {
      "cell_type": "code",
      "source": [
        "# prompt: generate a code to plot the distribution for quantity\n",
        "\n",
        "import pandas as pd\n",
        "import matplotlib.pyplot as plt\n",
        "import seaborn as sns\n",
        "\n",
        "# Load the dataset (assuming it's in the same directory as the notebook)\n",
        "data = pd.read_csv('/content/retail_sales_dataset.csv')\n",
        "\n",
        "# Assuming 'Quantity' is the column you want to plot\n",
        "# Replace 'Quantity' with the actual column name if it's different\n",
        "\n",
        "plt.figure(figsize=(10, 6))  # Adjust figure size as needed\n",
        "sns.histplot(data['Quantity'], kde=True)  # Use histplot for distribution\n",
        "plt.title('Distribution of Quantity')\n",
        "plt.xlabel('Quantity')\n",
        "plt.ylabel('Frequency')\n",
        "plt.show()\n"
      ],
      "metadata": {
        "colab": {
          "base_uri": "https://localhost:8080/",
          "height": 421
        },
        "id": "UDSZAkvYgQLu",
        "outputId": "04fb2346-5aed-4ba7-c958-c8ef5ef128da"
      },
      "execution_count": null,
      "outputs": [
        {
          "output_type": "display_data",
          "data": {
            "text/plain": [
              "<Figure size 1000x600 with 1 Axes>"
            ],
            "image/png": "[encoded data removed]"
          },
          "metadata": {}
        }
      ]
    },
    {
      "cell_type": "markdown",
      "source": [
        "**TASK:3** Exploratory Data Analysis (EDA)\n",
        "\n",
        "\n",
        "*  Plot the distribution of the following discrete feature:\n",
        "Quantity\n",
        "\n",
        "\n"
      ],
      "metadata": {
        "id": "ACljRXtIgsAl"
      }
    },
    {
      "cell_type": "code",
      "source": [
        "# prompt: generate a code to plot the distribution for category\n",
        "\n",
        "# Assuming 'Category' is the column you want to plot the distribution for.\n",
        "# Replace 'Category' with the actual column name if it's different.\n",
        "# Check the actual column name in your DataFrame 'data' using data.columns\n",
        "# and update 'Category' accordingly.\n",
        "\n",
        "# Example: If the actual column name is 'Product Category', replace 'Category' with 'Product Category'\n",
        "plt.figure(figsize=(12, 6))\n",
        "sns.countplot(x='Product Category', data=data)  # Replace 'Category' with the correct column name\n",
        "plt.title('Distribution of Categories')\n",
        "plt.xlabel('Category')\n",
        "plt.ylabel('Count')\n",
        "plt.xticks(rotation=45, ha='right')  # Rotate x-axis labels for better readability\n",
        "plt.show()"
      ],
      "metadata": {
        "colab": {
          "base_uri": "https://localhost:8080/",
          "height": 389
        },
        "id": "1q6wooiMhKS9",
        "outputId": "1f849fef-7f70-4cb1-8f75-e33c5df6ec6a"
      },
      "execution_count": null,
      "outputs": [
        {
          "output_type": "display_data",
          "data": {
            "text/plain": [
              "<Figure size 1200x600 with 1 Axes>"
            ],
            "image/png": "[encoded data removed]"
          },
          "metadata": {}
        }
      ]
    },
    {
      "cell_type": "markdown",
      "source": [
        "**TASK:3**  Exploratory Data Analysis (EDA)\n",
        "\n",
        "*   Plot the distribution of the following discrete feature: category\n",
        "\n"
      ],
      "metadata": {
        "id": "Zl6YZtxfh4ZE"
      }
    },
    {
      "cell_type": "code",
      "source": [
        "# prompt: generate a code for plot the distribution for region (Product Category)\n",
        "\n",
        "import pandas as pd\n",
        "import matplotlib.pyplot as plt\n",
        "import seaborn as sns\n",
        "\n",
        "# Load the dataset (assuming it's in the same directory as the notebook)\n",
        "data = pd.read_csv('/content/retail_sales_dataset.csv')\n",
        "\n",
        "# Assuming 'Product Category' is the column you want to plot the distribution for.\n",
        "# Replace 'Product Category' with the actual column name if it's different.\n",
        "# Check the actual column name in your DataFrame 'data' using data.columns\n",
        "# and update 'Product Category' accordingly.\n",
        "\n",
        "plt.figure(figsize=(12, 6))\n",
        "sns.countplot(x='Product Category', data=data)  # Replace 'Category' with the correct column name\n",
        "plt.title('Distribution of Product Categories')\n",
        "plt.xlabel('Product Category')\n",
        "plt.ylabel('Count')\n",
        "plt.xticks(rotation=45, ha='right')  # Rotate x-axis labels for better readability\n",
        "plt.show()\n"
      ],
      "metadata": {
        "colab": {
          "base_uri": "https://localhost:8080/",
          "height": 389
        },
        "id": "aavuz8mekT4S",
        "outputId": "fa02db13-5ba1-4888-f26a-7bc4f5206983"
      },
      "execution_count": null,
      "outputs": [
        {
          "output_type": "display_data",
          "data": {
            "text/plain": [
              "<Figure size 1200x600 with 1 Axes>"
            ],
            "image/png": "[encoded data removed]"
          },
          "metadata": {}
        }
      ]
    },
    {
      "cell_type": "markdown",
      "source": [
        "**TASK:3** Exploratory Data Analysis (EDA)\n",
        "\n",
        "Plot the distribution of the following discrete feature: region (category)"
      ],
      "metadata": {
        "id": "r68OkRllNjnY"
      }
    },
    {
      "cell_type": "code",
      "source": [
        "# prompt: generate a code to Identify the most frequently purchased product category\n",
        "\n",
        "# Assuming 'Product Category' is the column representing product categories\n",
        "# and 'Quantity' represents the number of units sold.\n",
        "\n",
        "# Calculate the total quantity sold for each product category\n",
        "category_sales = data.groupby('Product Category')['Quantity'].sum()\n",
        "\n",
        "# Find the most frequently purchased product category\n",
        "most_frequent_category = category_sales.idxmax()\n",
        "\n",
        "print(f\"The most frequently purchased product category is: {most_frequent_category}\")\n"
      ],
      "metadata": {
        "colab": {
          "base_uri": "https://localhost:8080/"
        },
        "id": "FuPuBuJVn5ud",
        "outputId": "34d8cd37-6f9b-4c9e-b869-2d0a5afec5cf"
      },
      "execution_count": null,
      "outputs": [
        {
          "output_type": "stream",
          "name": "stdout",
          "text": [
            "The most frequently purchased product category is: Clothing\n"
          ]
        }
      ]
    },
    {
      "cell_type": "markdown",
      "source": [
        "**TASK:3** Exploratory Data Analysis (EDA)\n",
        "\n",
        "\n",
        "2. Identify the most frequently purchased product category\n",
        "\n"
      ],
      "metadata": {
        "id": "dWe4vl5YoFyd"
      }
    },
    {
      "cell_type": "code",
      "source": [],
      "metadata": {
        "id": "6vljS0MvRu87"
      },
      "execution_count": null,
      "outputs": []
    },
    {
      "cell_type": "markdown",
      "source": [
        "**Deliverables:**\n",
        "\n",
        "1.  ***Distribution plots***\n",
        "\n",
        "Distribution plots in data analytics help visualize how data points are spread across different values. They show the frequency, density, or probability of data within a dataset. Common types of distribution plots include:\n",
        "\n",
        "**Histogram** – A bar chart that shows the frequency of data within specified intervals (bins).\n",
        "\n",
        "**KDE Plot (Kernel Density Estimate)**\n",
        " – A smoothed curve representing the probability density of data.\n",
        "\n",
        "**Box Plot** – A summary plot showing median, quartiles, and potential outliers.\n",
        "\n",
        "**Violin Plot** – Combines a box plot with KDE to show distribution shape and summary statistics.\n",
        "\n",
        "**ECDF** (Empirical Cumulative Distribution Function) – Displays the proportion of data points\n",
        "\n",
        "\n"
      ],
      "metadata": {
        "id": "1CNtgbLeQY2t"
      }
    },
    {
      "cell_type": "code",
      "source": [],
      "metadata": {
        "id": "IjAEImUiSYkL"
      },
      "execution_count": null,
      "outputs": []
    },
    {
      "cell_type": "markdown",
      "source": [
        "**Deliverables:**\n",
        "\n",
        "\n",
        "2.  ***Insights on top product categories and regions.***\n",
        "\n",
        "\n",
        "The top product category based on total sales is Electronics, with total sales amounting to $156,905.\n",
        "\n",
        "Region column is not defined in dataset."
      ],
      "metadata": {
        "id": "auKZj2cUTluq"
      }
    },
    {
      "cell_type": "code",
      "source": [
        "# prompt: generate a code to Convert the Date column to a datetime format.\n",
        "\n",
        "# Convert 'Date' column to datetime objects\n",
        "data['Date'] = pd.to_datetime(data['Date'])\n"
      ],
      "metadata": {
        "id": "_Gsp-VOjUCpp"
      },
      "execution_count": null,
      "outputs": []
    },
    {
      "cell_type": "code",
      "source": [
        "\n",
        "data.info()"
      ],
      "metadata": {
        "colab": {
          "base_uri": "https://localhost:8080/"
        },
        "id": "K-NQJr81W_S2",
        "outputId": "84fdfe7b-e2a6-467b-eef8-e25da348340e"
      },
      "execution_count": null,
      "outputs": [
        {
          "output_type": "stream",
          "name": "stdout",
          "text": [
            "<class 'pandas.core.frame.DataFrame'>\n",
            "RangeIndex: 1000 entries, 0 to 999\n",
            "Data columns (total 9 columns):\n",
            " #   Column            Non-Null Count  Dtype         \n",
            "---  ------            --------------  -----         \n",
            " 0   Transaction ID    1000 non-null   int64         \n",
            " 1   Date              1000 non-null   datetime64[ns]\n",
            " 2   Customer ID       1000 non-null   object        \n",
            " 3   Gender            1000 non-null   object        \n",
            " 4   Age               1000 non-null   int64         \n",
            " 5   Product Category  1000 non-null   object        \n",
            " 6   Quantity          1000 non-null   int64         \n",
            " 7   Price per Unit    1000 non-null   int64         \n",
            " 8   Total Amount      1000 non-null   int64         \n",
            "dtypes: datetime64[ns](1), int64(5), object(3)\n",
            "memory usage: 70.4+ KB\n"
          ]
        }
      ]
    },
    {
      "cell_type": "markdown",
      "source": [
        "**TASK:4** **Timestamp Transformation**\n",
        "\n",
        "\n",
        "\n",
        "1.  Convert the Date column to a datetime format.\n"
      ],
      "metadata": {
        "id": "QdPVPajlXSuN"
      }
    },
    {
      "cell_type": "code",
      "source": [
        "# prompt: generate a code to Create new column:  Day of the week.\n",
        "\n",
        "import pandas as pd\n",
        "\n",
        "# Assuming the data is in 'retail_sales_dataset.csv'\n",
        "# Replace with the actual file path if it's different\n",
        "data = pd.read_csv('/content/retail_sales_dataset.csv')  # Load your dataset here\n",
        "\n",
        "# Assuming 'Date' column exists and is in a suitable format\n",
        "data['Date'] = pd.to_datetime(data['Date'])\n",
        "\n",
        "# Extract the day of the week\n",
        "data['Day of the week'] = data['Date'].dt.day_name()\n",
        "\n",
        "# Display the updated DataFrame\n",
        "print(data.head())"
      ],
      "metadata": {
        "colab": {
          "base_uri": "https://localhost:8080/"
        },
        "id": "zZhl7u6AXkOF",
        "outputId": "4c1dfae5-cde2-4162-c2a9-11fe91d6d347"
      },
      "execution_count": null,
      "outputs": [
        {
          "output_type": "stream",
          "name": "stdout",
          "text": [
            "   Transaction ID       Date Customer ID  Gender  Age Product Category  \\\n",
            "0               1 2023-11-24     CUST001    Male   34           Beauty   \n",
            "1               2 2023-02-27     CUST002  Female   26         Clothing   \n",
            "2               3 2023-01-13     CUST003    Male   50      Electronics   \n",
            "3               4 2023-05-21     CUST004    Male   37         Clothing   \n",
            "4               5 2023-05-06     CUST005    Male   30           Beauty   \n",
            "\n",
            "   Quantity  Price per Unit  Total Amount Day of the week  \n",
            "0         3              50           150          Friday  \n",
            "1         2             500          1000          Monday  \n",
            "2         1              30            30          Friday  \n",
            "3         1             500           500          Sunday  \n",
            "4         2              50           100        Saturday  \n"
          ]
        }
      ]
    },
    {
      "cell_type": "markdown",
      "source": [
        "**TASK:4** **Timestamp Transformation**\n",
        "\n",
        "\n",
        "\n",
        "1.   Create new columns:  Day of the week.\n",
        "\n",
        "\n"
      ],
      "metadata": {
        "id": "twQVKxLLZWyD"
      }
    },
    {
      "cell_type": "code",
      "source": [
        "# prompt: generate a code to Create new column: Day of the month\n",
        "\n",
        "# Assuming the data is in 'retail_sales_dataset.csv'\n",
        "# Replace with the actual file path if it's different\n",
        "data = pd.read_csv('/content/retail_sales_dataset.csv')  # Load your dataset here\n",
        "\n",
        "# Assuming 'Date' column exists and is in a suitable format\n",
        "data['Date'] = pd.to_datetime(data['Date'])\n",
        "\n",
        "# Extract the day of the month\n",
        "data['Day of the month'] = data['Date'].dt.day\n",
        "\n",
        "# Display the updated DataFrame\n",
        "print(data.head())\n"
      ],
      "metadata": {
        "colab": {
          "base_uri": "https://localhost:8080/"
        },
        "id": "AO2TBmm5Zy-y",
        "outputId": "ba20a529-5bcc-430c-b7bb-eebbf0f29753"
      },
      "execution_count": null,
      "outputs": [
        {
          "output_type": "stream",
          "name": "stdout",
          "text": [
            "   Transaction ID       Date Customer ID  Gender  Age Product Category  \\\n",
            "0               1 2023-11-24     CUST001    Male   34           Beauty   \n",
            "1               2 2023-02-27     CUST002  Female   26         Clothing   \n",
            "2               3 2023-01-13     CUST003    Male   50      Electronics   \n",
            "3               4 2023-05-21     CUST004    Male   37         Clothing   \n",
            "4               5 2023-05-06     CUST005    Male   30           Beauty   \n",
            "\n",
            "   Quantity  Price per Unit  Total Amount  Day of the month  \n",
            "0         3              50           150                24  \n",
            "1         2             500          1000                27  \n",
            "2         1              30            30                13  \n",
            "3         1             500           500                21  \n",
            "4         2              50           100                 6  \n"
          ]
        }
      ]
    },
    {
      "cell_type": "markdown",
      "source": [
        "**TASK:4** **Timestamp Transformation**\n",
        "\n",
        "2.  Create new columns: Day of the month."
      ],
      "metadata": {
        "id": "TdE2lJQ0aEWi"
      }
    },
    {
      "cell_type": "code",
      "source": [
        "# prompt: generate a code to Create new column: Year\n",
        "\n",
        "# Assuming the data is in 'retail_sales_dataset.csv'\n",
        "# Replace with the actual file path if it's different\n",
        "data = pd.read_csv('/content/retail_sales_dataset.csv')  # Load your dataset here\n",
        "\n",
        "# Assuming 'Date' column exists and is in a suitable format\n",
        "data['Date'] = pd.to_datetime(data['Date'])\n",
        "\n",
        "# Extract the year\n",
        "data['Year'] = data['Date'].dt.year\n",
        "\n",
        "# Display the updated DataFrame\n",
        "print(data.head())\n"
      ],
      "metadata": {
        "colab": {
          "base_uri": "https://localhost:8080/"
        },
        "id": "GWEreSbQajwx",
        "outputId": "d43d7209-64be-4b7f-dd72-665000c5b51f"
      },
      "execution_count": null,
      "outputs": [
        {
          "output_type": "stream",
          "name": "stdout",
          "text": [
            "   Transaction ID       Date Customer ID  Gender  Age Product Category  \\\n",
            "0               1 2023-11-24     CUST001    Male   34           Beauty   \n",
            "1               2 2023-02-27     CUST002  Female   26         Clothing   \n",
            "2               3 2023-01-13     CUST003    Male   50      Electronics   \n",
            "3               4 2023-05-21     CUST004    Male   37         Clothing   \n",
            "4               5 2023-05-06     CUST005    Male   30           Beauty   \n",
            "\n",
            "   Quantity  Price per Unit  Total Amount  Year  \n",
            "0         3              50           150  2023  \n",
            "1         2             500          1000  2023  \n",
            "2         1              30            30  2023  \n",
            "3         1             500           500  2023  \n",
            "4         2              50           100  2023  \n"
          ]
        }
      ]
    },
    {
      "cell_type": "markdown",
      "source": [
        "TASK:4 Timestamp Transformation\n",
        "\n",
        "\n",
        "\n",
        "\n",
        "\n",
        "\n",
        "3.  Create new columns: Year\n",
        "\n",
        "\n",
        "\n",
        "\n"
      ],
      "metadata": {
        "id": "W7-8IWi9a2KR"
      }
    },
    {
      "cell_type": "code",
      "source": [
        "# prompt: generate a code to Create new column: Season (Winter, Spring, Summer, Fall).\n",
        "\n",
        "# Assuming the data is in 'retail_sales_dataset.csv'\n",
        "# Replace with the actual file path if it's different\n",
        "data = pd.read_csv('/content/retail_sales_dataset.csv')  # Load your dataset here\n",
        "\n",
        "# Assuming 'Date' column exists and is in a suitable format\n",
        "data['Date'] = pd.to_datetime(data['Date'])\n",
        "\n",
        "# Create the 'Season' column based on the month\n",
        "data['Season'] = (data['Date'].dt.month % 12 + 3) // 3\n",
        "data['Season'] = data['Season'].replace({1: 'Winter', 2: 'Spring', 3: 'Summer', 4: 'Fall'})\n",
        "\n",
        "# Display the updated DataFrame\n",
        "print(data.head())\n"
      ],
      "metadata": {
        "colab": {
          "base_uri": "https://localhost:8080/"
        },
        "id": "63bjxxFwbz54",
        "outputId": "d9efe704-42c0-40c0-e9ea-4bb797b8c621"
      },
      "execution_count": null,
      "outputs": [
        {
          "output_type": "stream",
          "name": "stdout",
          "text": [
            "   Transaction ID       Date Customer ID  Gender  Age Product Category  \\\n",
            "0               1 2023-11-24     CUST001    Male   34           Beauty   \n",
            "1               2 2023-02-27     CUST002  Female   26         Clothing   \n",
            "2               3 2023-01-13     CUST003    Male   50      Electronics   \n",
            "3               4 2023-05-21     CUST004    Male   37         Clothing   \n",
            "4               5 2023-05-06     CUST005    Male   30           Beauty   \n",
            "\n",
            "   Quantity  Price per Unit  Total Amount  Season  \n",
            "0         3              50           150    Fall  \n",
            "1         2             500          1000  Winter  \n",
            "2         1              30            30  Winter  \n",
            "3         1             500           500  Spring  \n",
            "4         2              50           100  Spring  \n"
          ]
        }
      ]
    },
    {
      "cell_type": "markdown",
      "source": [
        "**TASK:4** **Timestamp Transformation**\n",
        "\n",
        "Create new columns: Season (Winter, Spring, Summer, Fall).\n"
      ],
      "metadata": {
        "id": "hTEXmnMzexpu"
      }
    },
    {
      "cell_type": "code",
      "source": [
        "# prompt: generate a code to Set the  Date column as the DataFrame index.\n",
        "\n",
        "# Assuming 'Date' is the column name containing date information\n",
        "data = data.set_index('Date')\n",
        "print(data.head())\n"
      ],
      "metadata": {
        "colab": {
          "base_uri": "https://localhost:8080/"
        },
        "id": "QXBU9H1rfDq8",
        "outputId": "f0927f29-9c69-4553-a89e-71c52ade8310"
      },
      "execution_count": null,
      "outputs": [
        {
          "output_type": "stream",
          "name": "stdout",
          "text": [
            "            Transaction ID Customer ID  Gender  Age Product Category  \\\n",
            "Date                                                                   \n",
            "2023-11-24               1     CUST001    Male   34           Beauty   \n",
            "2023-02-27               2     CUST002  Female   26         Clothing   \n",
            "2023-01-13               3     CUST003    Male   50      Electronics   \n",
            "2023-05-21               4     CUST004    Male   37         Clothing   \n",
            "2023-05-06               5     CUST005    Male   30           Beauty   \n",
            "\n",
            "            Quantity  Price per Unit  Total Amount  Season  \n",
            "Date                                                        \n",
            "2023-11-24         3              50           150    Fall  \n",
            "2023-02-27         2             500          1000  Winter  \n",
            "2023-01-13         1              30            30  Winter  \n",
            "2023-05-21         1             500           500  Spring  \n",
            "2023-05-06         2              50           100  Spring  \n"
          ]
        }
      ]
    },
    {
      "cell_type": "markdown",
      "source": [
        "**TASK:4** **Timestamp Transformation**\n",
        "\n",
        "\n",
        "* Set the Order Date column as the DataFrame index.\n",
        "  \n",
        "\n",
        "\n"
      ],
      "metadata": {
        "id": "f5eqI4yAfWKM"
      }
    },
    {
      "cell_type": "code",
      "source": [],
      "metadata": {
        "id": "FcBe93xDgCg0"
      },
      "execution_count": null,
      "outputs": []
    },
    {
      "cell_type": "markdown",
      "source": [
        "# **Deliverables:**\n",
        "\n",
        "***Updated DataFrame with new columns.***\n",
        "**Day of the Week** – Extracts the day of the week (e.g., Monday, Tuesday) from the transaction date to analyze purchasing patterns on different days.\n",
        "\n",
        "**Day of the Month **– Represents the exact day of the month (1–31) when the transaction occurred, useful for identifying trends within a month.\n",
        "\n",
        "**Month**  – Extracts the month (e.g., January, February) to analyze monthly sales trends.\n",
        "\n",
        "**Year** – Captures the year of the transaction, helping with year-over-year sales comparisons.\n",
        "\n",
        "**Season (Winter, Spring, Summer, Fall)** – Categorizes transactions into seasons based on the month, enabling seasonal trend analysis.\n"
      ],
      "metadata": {
        "id": "mg47FHBFgCuj"
      }
    },
    {
      "cell_type": "code",
      "source": [],
      "metadata": {
        "id": "Kud3dz8ijCRY"
      },
      "execution_count": null,
      "outputs": []
    },
    {
      "cell_type": "markdown",
      "source": [
        "# **Deliverables:**\n",
        "\n",
        "**Sample rows**\n",
        "\n",
        "**Transaction ID\tDate\tTotal Amount\tDay of the Week\tDay of the Month\tMonth\tYear\tSeason**\n",
        "1\t2023-11-24\t150\tFriday\t24\tNovember\t2023\tFall\n",
        "2\t2023-02-27\t1000\tMonday\t27\tFebruary\t2023\tWinter\n",
        "\n",
        "**Transformation Checks:**\n",
        "\n",
        "**Day of the Week**  correctly corresponds to the transaction date.\n",
        "\n",
        "**Day of the Month** is extracted correctly from the date.\n",
        "\n",
        "**Month and Year** align with the original transaction date.\n",
        "\n",
        "**Season** classification is accurate based on the month (e.g., December is Winter, June is Summer).\n"
      ],
      "metadata": {
        "id": "Z50jP3Hgi4JQ"
      }
    },
    {
      "cell_type": "markdown",
      "source": [
        "**TASK:4 Timestamp Transformation**\n",
        "\n",
        " A few sample rows to verify the transformations.\n"
      ],
      "metadata": {
        "id": "VEpCf7K0vmUh"
      }
    },
    {
      "cell_type": "code",
      "source": [
        "# prompt: generate a code for Correlation Analysis\n",
        "# 1.generate a code to  Compute the correlation matrix for numerical columns.\n",
        "# 2. generate a code to Visualize the correlation matrix using a heatmap.\n",
        "# 3. generate a code to Identify and discuss two key relationships from the heatmap.\n",
        "\n",
        "import pandas as pd\n",
        "import matplotlib.pyplot as plt\n",
        "import seaborn as sns\n",
        "\n",
        "# Assuming 'data' DataFrame is already loaded and cleaned as in the previous code snippets.\n",
        "# If not, load and clean your data first.\n",
        "# Example:\n",
        "data = pd.read_csv('/content/retail_sales_dataset.csv')\n",
        "# ... (your data cleaning code from previous responses) ...\n",
        "\n",
        "# 1. Compute the correlation matrix for numerical columns\n",
        "numerical_cols = data.select_dtypes(include=['number'])\n",
        "correlation_matrix = numerical_cols.corr()\n",
        "\n",
        "# 2. Visualize the correlation matrix using a heatmap\n",
        "plt.figure(figsize=(12, 8))\n",
        "sns.heatmap(correlation_matrix, annot=True, cmap='coolwarm', fmt=\".2f\")\n",
        "plt.title('Correlation Matrix of Numerical Features')\n",
        "plt.show()\n",
        "\n",
        "# 3. Identify and discuss two key relationships from the heatmap\n",
        "#  (Replace with your actual observations from the heatmap)\n",
        "\n",
        "print(\"Key Relationships from the Heatmap:\")\n",
        "print(\"-\" * 30)\n",
        "\n",
        "# Example 1: (Observe the heatmap to find a strong positive correlation)\n",
        "#  If 'Quantity' and 'Total Amount' have a strong positive correlation (e.g., 0.8 or higher):\n",
        "print(\"1. Strong positive correlation between 'Quantity' and 'Total Amount':\")\n",
        "print(\"   This indicates that as the quantity of items purchased increases, the total amount spent tends to increase proportionally.\")\n",
        "\n",
        "# Example 2: (Observe the heatmap to find a negative correlation)\n",
        "# If 'Discount' and 'Total Amount' have a negative correlation (e.g., -0.5 or lower):\n",
        "print(\"\\n2. Negative correlation between 'Discount' and 'Total Amount':\")\n",
        "print(\"   This suggests that higher discounts are associated with lower total amounts spent, as expected.\")\n",
        "\n",
        "# Add more relationships as needed, based on your actual heatmap observations.\n"
      ],
      "metadata": {
        "colab": {
          "base_uri": "https://localhost:8080/",
          "height": 821
        },
        "id": "8H8QOsZ1wNe4",
        "outputId": "6b92ee03-0fec-4584-9de9-d54f1576037b"
      },
      "execution_count": null,
      "outputs": [
        {
          "output_type": "display_data",
          "data": {
            "text/plain": [
              "<Figure size 1200x800 with 2 Axes>"
            ],
            "image/png": "[encoded data removed]"
          },
          "metadata": {}
        },
        {
          "output_type": "stream",
          "name": "stdout",
          "text": [
            "Key Relationships from the Heatmap:\n",
            "------------------------------\n",
            "1. Strong positive correlation between 'Quantity' and 'Total Amount':\n",
            "   This indicates that as the quantity of items purchased increases, the total amount spent tends to increase proportionally.\n",
            "\n",
            "2. Negative correlation between 'Discount' and 'Total Amount':\n",
            "   This suggests that higher discounts are associated with lower total amounts spent, as expected.\n"
          ]
        }
      ]
    },
    {
      "cell_type": "markdown",
      "source": [
        "**TASK:5** **Correlation Analysis**\n",
        "\n",
        "1.  Compute the correlation matrix for numerical columns.\n",
        "2.   Visualize the correlation matrix using a heatmap.\n",
        "\n",
        "3  Identify and discuss two key relationships from the heatmap."
      ],
      "metadata": {
        "id": "_QIntr_JxdtP"
      }
    },
    {
      "cell_type": "code",
      "source": [],
      "metadata": {
        "id": "ds5ruZ3dxdZQ"
      },
      "execution_count": null,
      "outputs": []
    },
    {
      "cell_type": "markdown",
      "source": [
        "# **Deliverables:**\n",
        "\n",
        "1. **Heatmap Visualization**\n",
        "*italicized text*\n",
        "The heatmap provides a visual representation of sales trends across different time dimensions. It helps in identifying patterns, peak sales periods, and potential seasonality in transactions."
      ],
      "metadata": {
        "id": "zh4uWdU6yrSm"
      }
    },
    {
      "cell_type": "code",
      "source": [],
      "metadata": {
        "id": "waofHIeby2mV"
      },
      "execution_count": null,
      "outputs": []
    },
    {
      "cell_type": "markdown",
      "source": [
        "# **Deliverables:**\n",
        "\n",
        "2. Observations about key correlations\n",
        "\n",
        "These correlations can reveal important insights, patterns, or trends that are useful for analysis, prediction, and decision-making. Here’s a breakdown of different types and aspects of correlations:\n",
        "\n",
        "1. **Positive Correlation**\n",
        "Definition: When one variable increases, the other also increases (or when one decreases, the other decreases).\n",
        "Example: As the amount of time spent studying increases, exam scores tend to increase.\n",
        "2. **Negative Correlation**\n",
        "Definition: When one variable increases, the other decreases, or vice versa.\n",
        "Example: As the amount of time spent on social media increases, the quality of sleep tends to decrease.\n"
      ],
      "metadata": {
        "id": "uKEiDit8y2-l"
      }
    },
    {
      "cell_type": "code",
      "source": [
        "# prompt: generate a code for DataFrame Operations\n",
        "# 1. generate a code to Use loc to extract sales data for a specific date or range of dates.\n",
        "# 2. generate a code to Use iloc to extract the first 10 rows of the dataset.\n",
        "# 3. generate a code to Drop a column (e.g., Region) using drop(axis=1).\n",
        "# 4. generate a code to Drop the first two rows using drop(axis=0).\n",
        "\n",
        "import pandas as pd\n",
        "\n",
        "# Assuming 'data' DataFrame is already loaded and cleaned as in the previous code snippets.\n",
        "# If not, load and clean your data first.\n",
        "# Example:\n",
        "data = pd.read_csv('/content/retail_sales_dataset.csv')\n",
        "data['Date'] = pd.to_datetime(data['Date']) #Ensure Date column is datetime\n",
        "\n",
        "# 1. Use loc to extract sales data for a specific date or range of dates.\n",
        "# Example: Extract sales data for '2023-11-24'\n",
        "sales_on_date = data.loc[data['Date'] == '2023-11-24']\n",
        "print(\"Sales on 2023-11-24:\\n\", sales_on_date)\n",
        "\n",
        "# Example: Extract sales data for dates between '2023-01-01' and '2023-03-31'\n",
        "sales_in_range = data.loc[(data['Date'] >= '2023-01-01') & (data['Date'] <= '2023-03-31')]\n",
        "print(\"\\nSales between 2023-01-01 and 2023-03-31:\\n\", sales_in_range)\n",
        "\n",
        "# 2. Use iloc to extract the first 10 rows of the dataset.\n",
        "first_10_rows = data.iloc[:10]  # or data.iloc[0:10]\n",
        "print(\"\\nFirst 10 rows:\\n\", first_10_rows)\n",
        "\n",
        "# 3. Drop a column (e.g., 'Region') using drop(axis=1).\n",
        "# Assuming a 'Region' column exists (replace with your actual column name)\n",
        "if 'Region' in data.columns:\n",
        "    data_no_region = data.drop('Region', axis=1)\n",
        "    print(\"\\nDataFrame after dropping 'Region' column:\\n\", data_no_region.head())\n",
        "else:\n",
        "    print(\"\\n'Region' column not found in the DataFrame.\")\n",
        "\n",
        "# 4. Drop the first two rows using drop(axis=0).\n",
        "data_no_first_two_rows = data.drop(index=range(2))  # Drop rows with index 0 and 1.\n",
        "print(\"\\nDataFrame after dropping first two rows:\\n\", data_no_first_two_rows.head())\n"
      ],
      "metadata": {
        "colab": {
          "base_uri": "https://localhost:8080/"
        },
        "id": "Zr-s9jFT0HN0",
        "outputId": "e848c893-ebbe-4f1a-8666-78afe32d78e0"
      },
      "execution_count": null,
      "outputs": [
        {
          "output_type": "stream",
          "name": "stdout",
          "text": [
            "Sales on 2023-11-24:\n",
            "      Transaction ID       Date Customer ID  Gender  Age Product Category  \\\n",
            "0                 1 2023-11-24     CUST001    Male   34           Beauty   \n",
            "94               95 2023-11-24     CUST095  Female   32         Clothing   \n",
            "170             171 2023-11-24     CUST171  Female   52         Clothing   \n",
            "\n",
            "     Quantity  Price per Unit  Total Amount  \n",
            "0           3              50           150  \n",
            "94          2              30            60  \n",
            "170         3             300           900  \n",
            "\n",
            "Sales between 2023-01-01 and 2023-03-31:\n",
            "      Transaction ID       Date Customer ID  Gender  Age Product Category  \\\n",
            "1                 2 2023-02-27     CUST002  Female   26         Clothing   \n",
            "2                 3 2023-01-13     CUST003    Male   50      Electronics   \n",
            "6                 7 2023-03-13     CUST007    Male   46         Clothing   \n",
            "7                 8 2023-02-22     CUST008    Male   30      Electronics   \n",
            "10               11 2023-02-14     CUST011    Male   23         Clothing   \n",
            "..              ...        ...         ...     ...  ...              ...   \n",
            "976             977 2023-02-08     CUST977  Female   35      Electronics   \n",
            "977             978 2023-03-22     CUST978  Female   53         Clothing   \n",
            "978             979 2023-01-02     CUST979  Female   19           Beauty   \n",
            "985             986 2023-01-17     CUST986  Female   49         Clothing   \n",
            "992             993 2023-02-06     CUST993  Female   48      Electronics   \n",
            "\n",
            "     Quantity  Price per Unit  Total Amount  \n",
            "1           2             500          1000  \n",
            "2           1              30            30  \n",
            "6           2              25            50  \n",
            "7           4              25           100  \n",
            "10          2              50           100  \n",
            "..        ...             ...           ...  \n",
            "976         3              25            75  \n",
            "977         3              50           150  \n",
            "978         1              25            25  \n",
            "985         2             500          1000  \n",
            "992         3              50           150  \n",
            "\n",
            "[234 rows x 9 columns]\n",
            "\n",
            "First 10 rows:\n",
            "    Transaction ID       Date Customer ID  Gender  Age Product Category  \\\n",
            "0               1 2023-11-24     CUST001    Male   34           Beauty   \n",
            "1               2 2023-02-27     CUST002  Female   26         Clothing   \n",
            "2               3 2023-01-13     CUST003    Male   50      Electronics   \n",
            "3               4 2023-05-21     CUST004    Male   37         Clothing   \n",
            "4               5 2023-05-06     CUST005    Male   30           Beauty   \n",
            "5               6 2023-04-25     CUST006  Female   45           Beauty   \n",
            "6               7 2023-03-13     CUST007    Male   46         Clothing   \n",
            "7               8 2023-02-22     CUST008    Male   30      Electronics   \n",
            "8               9 2023-12-13     CUST009    Male   63      Electronics   \n",
            "9              10 2023-10-07     CUST010  Female   52         Clothing   \n",
            "\n",
            "   Quantity  Price per Unit  Total Amount  \n",
            "0         3              50           150  \n",
            "1         2             500          1000  \n",
            "2         1              30            30  \n",
            "3         1             500           500  \n",
            "4         2              50           100  \n",
            "5         1              30            30  \n",
            "6         2              25            50  \n",
            "7         4              25           100  \n",
            "8         2             300           600  \n",
            "9         4              50           200  \n",
            "\n",
            "'Region' column not found in the DataFrame.\n",
            "\n",
            "DataFrame after dropping first two rows:\n",
            "    Transaction ID       Date Customer ID  Gender  Age Product Category  \\\n",
            "2               3 2023-01-13     CUST003    Male   50      Electronics   \n",
            "3               4 2023-05-21     CUST004    Male   37         Clothing   \n",
            "4               5 2023-05-06     CUST005    Male   30           Beauty   \n",
            "5               6 2023-04-25     CUST006  Female   45           Beauty   \n",
            "6               7 2023-03-13     CUST007    Male   46         Clothing   \n",
            "\n",
            "   Quantity  Price per Unit  Total Amount  \n",
            "2         1              30            30  \n",
            "3         1             500           500  \n",
            "4         2              50           100  \n",
            "5         1              30            30  \n",
            "6         2              25            50  \n"
          ]
        }
      ]
    },
    {
      "cell_type": "markdown",
      "source": [
        "**TASK:6** **DataFrame Operations**\n",
        "1. Use loc to extract sales data for a specific date or range of dates.\n",
        "2. Use iloc to extract the first 10 rows of the dataset.\n",
        "3. Drop a column (e.g., Region) using drop(axis=1).\n",
        "4. Drop the first two rows using drop(axis=0).\n"
      ],
      "metadata": {
        "id": "YS_jzz9k1bwa"
      }
    },
    {
      "cell_type": "code",
      "source": [],
      "metadata": {
        "id": "bvrqm40FzE7F"
      },
      "execution_count": null,
      "outputs": []
    },
    {
      "cell_type": "markdown",
      "source": [
        "# **Deliverables:**\n",
        "\n",
        "\n",
        "*  Code and results for each operation\n",
        "1. Loading the dataset\n",
        "2. Displaying basic information (columns, data types, missing values)\n",
        "3. Data cleaning (handling missing values)\n",
        "4. Basic visualizations (sales trend over time)\n",
        "*** operations***\n",
        "\n",
        "  import pandas as pd\n",
        "\n",
        "  data = pd.read_csv(\"file path\")\n",
        "\n",
        "  data.isnull().sum() and\n",
        "  \n",
        "  data.head() ..etc,\n"
      ],
      "metadata": {
        "id": "bBWD8YIQa3FN"
      }
    },
    {
      "cell_type": "code",
      "source": [],
      "metadata": {
        "id": "dPyrgJ_ocTDj"
      },
      "execution_count": null,
      "outputs": []
    },
    {
      "cell_type": "markdown",
      "source": [
        "# **Deliverables:**\n",
        "\n",
        "\n",
        "* Explanation of when to use loc vs iloc.\n",
        "\n",
        "\n",
        "\n",
        "**loc** and **iloc** are used to access data in a DataFrame, but they work differently:\n",
        "\n",
        "**loc** is\tLabel-based we take\tRow labels, column names.\n",
        "e.g:  data.loc[2, 'Product Category']\n",
        "\n",
        "**iloc** is Position-based and take\tRow index, column index.\n",
        "e.g: data.iloc[2, 5]"
      ],
      "metadata": {
        "id": "pzjB8lg-cTfb"
      }
    },
    {
      "cell_type": "code",
      "source": [],
      "metadata": {
        "id": "ytzpWcZ1eBd5"
      },
      "execution_count": null,
      "outputs": []
    },
    {
      "cell_type": "markdown",
      "source": [
        "**TASK:7** **Insights and Reporting**\n",
        "\n",
        "\n",
        "* Write a one-page summary of key insights from the analysis.\n",
        "\n",
        "***Key Insights***\n",
        "\n",
        "1. **Overview of the Dataset**\n",
        "\n",
        "The dataset contains 1,000 transactions with 9 columns, including Transaction ID, Date, Customer ID, Gender, Age, Product Category, Quantity, Price per Unit, and Total Amount. There are no missing values, and data types are correctly formatted for analysis.\n",
        "\n",
        "2. **Customer Demographics**\n",
        "\n",
        "The average customer age is 41 years, with ages ranging from 18 to 64.\n",
        "\n",
        "There is a balanced distribution of male and female customers, indicating no significant gender-based purchasing bias.\n",
        "\n",
        "3. **Sales Performance**\n",
        "\n",
        "The average total amount spent per transaction is $456, with purchases ranging from $25 to $2,000.\n",
        "\n",
        "Most customers purchase between 1 to 4 items per transaction, with an average quantity of 2.51.\n",
        "\n",
        "4. **Product Category Insights**\n",
        "\n",
        "The dataset includes sales from multiple product categories, with Electronics, Beauty, and Clothing being prominent.\n",
        "\n",
        "The Clothing category contributes significantly to higher transaction amounts due to high unit prices.\n",
        "\n",
        "5. **Price and Revenue Trends**\n",
        "\n",
        "The average price per unit is $179.89, but varies significantly by category.\n",
        "\n",
        "Higher-priced items correlate with lower quantities per transaction, while lower-priced items are often bought in bulk.\n",
        "\n",
        "6. **Seasonal Sales Patterns**\n",
        "\n",
        "Sales are distributed across different months, indicating a steady demand throughout the year.\n",
        "\n",
        "\n",
        "\n",
        "\n",
        "*  Highlight recommendations for improving sales based on your findings.\n",
        "\n",
        "\n",
        "**Recommendations for Improving Sales**\n",
        "\n",
        "**Targeted Marketing:** Focus on personalized promotions and discounts for the 30-50 age group, as they represent the primary customer base.\n",
        "\n",
        "**Inventory Optimization:** Prioritize stock availability for high-performing categories like Clothing and Electronics to meet demand efficiently.\n",
        "\n",
        "**Bundle Offers & Discounts:** Encourage bulk purchases by offering bundle deals, especially for lower-priced items.\n",
        "\n",
        "**Seasonal Promotions:** Identify peak sales periods and align promotional campaigns to maximize revenue.\n",
        "\n",
        "**Customer Loyalty Programs:** Introduce loyalty incentives such as discounts for repeat customers to increase retention.\n",
        "\n",
        "**Pricing Strategies:** Analyze pricing elasticity and adjust pricing dynamically based on customer purchasing behavior.\n",
        "\n",
        "\n",
        "\n"
      ],
      "metadata": {
        "id": "O4F7pgp6eBzo"
      }
    },
    {
      "cell_type": "code",
      "source": [],
      "metadata": {
        "id": "10sM5ahiggC9"
      },
      "execution_count": null,
      "outputs": []
    }
  ]
}